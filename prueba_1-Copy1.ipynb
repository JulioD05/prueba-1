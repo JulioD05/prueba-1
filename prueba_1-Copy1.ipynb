{
 "cells": [
  {
   "cell_type": "markdown",
   "id": "1b40c13e",
   "metadata": {},
   "source": [
    "# DESCRIPCION DE TRABAJADOR "
   ]
  },
  {
   "cell_type": "code",
   "execution_count": 9,
   "id": "20f9a2de",
   "metadata": {},
   "outputs": [
    {
     "name": "stdout",
     "output_type": "stream",
     "text": [
      " nombre? julio\n",
      " barrio? nicolas \n",
      " edad actual 17\n",
      "Hola julio de el barrio nicolas , tu edad es de 17 años\n"
     ]
    }
   ],
   "source": [
    "name = input(\" nombre? \")\n",
    "Place = input(\" barrio? \")\n",
    "age = input(\" edad actual \")\n",
    "print(\"Hola \" + name + \" de el barrio \" + Place +\",\" + \" tu edad es de \" + str(age) + \" años\")"
   ]
  },
  {
   "cell_type": "markdown",
   "id": "23162647",
   "metadata": {},
   "source": [
    "#  ortoedro, cilindro, esfera."
   ]
  },
  {
   "cell_type": "code",
   "execution_count": 2,
   "id": "c47d9bbf",
   "metadata": {},
   "outputs": [
    {
     "name": "stdout",
     "output_type": "stream",
     "text": [
      "numero2\n",
      "numero3\n",
      "el resultado es:  5\n"
     ]
    }
   ],
   "source": [
    "a = input(\"numero\")\n",
    "b = input(\"numero\")\n",
    "x = int(a) + int(b)\n",
    "print(\"el resultado es: \" , x)"
   ]
  },
  {
   "cell_type": "code",
   "execution_count": 10,
   "id": "7b06f972",
   "metadata": {},
   "outputs": [
    {
     "name": "stdout",
     "output_type": "stream",
     "text": [
      "10\n"
     ]
    }
   ],
   "source": [
    "\n",
    "x = 5\n",
    "b = 2\n",
    "print(x*b)\n",
    "\n"
   ]
  },
  {
   "cell_type": "code",
   "execution_count": 15,
   "id": "c30eaeb5",
   "metadata": {},
   "outputs": [
    {
     "name": "stdout",
     "output_type": "stream",
     "text": [
      " altura 3\n",
      " longitud 5\n",
      " profundidad 7\n",
      "el volumen del ortoedro es: 105 cm3\n"
     ]
    }
   ],
   "source": [
    "#volumen \n",
    "a = input(\" altura \")\n",
    "b = input(\" longitud \")\n",
    "c = input(\" profundidad \")\n",
    "x = int(a) * int(b) * int(c)\n",
    "print(\"el volumen del ortoedro es:\" , x , \"cm3\")"
   ]
  },
  {
   "cell_type": "code",
   "execution_count": 17,
   "id": "b6951673",
   "metadata": {},
   "outputs": [
    {
     "name": "stdout",
     "output_type": "stream",
     "text": [
      " altura 2\n",
      " longitud 3\n",
      " profundidad 5\n",
      "el area de el ortoedro es de: 62 cm2\n"
     ]
    }
   ],
   "source": [
    "#area \n",
    "a = input(\" altura \")\n",
    "b = input(\" longitud \")\n",
    "c = input(\" profundidad \")\n",
    "x = int(a) * int(b)\n",
    "z = int(a) * int(c)\n",
    "y = int(c) * int(b)\n",
    "j = int(x) + int(z) + int(y)\n",
    "area = int(j) * 2\n",
    "print(\"el area de el ortoedro es de:\" , area , \"cm2\")"
   ]
  },
  {
   "cell_type": "code",
   "execution_count": 39,
   "id": "14962b76",
   "metadata": {},
   "outputs": [
    {
     "name": "stdout",
     "output_type": "stream",
     "text": [
      " altura 10\n",
      " radio 6\n",
      "el volumen del cilindro es:  1130.9759999999999 cm3\n"
     ]
    }
   ],
   "source": [
    "# volumen de cilindro \n",
    "a = input(\" altura \")\n",
    "r = input(\" radio \")\n",
    "c = 3.1416\n",
    "j = float(r)**2\n",
    "x = float(a) * float(j) * float(c)\n",
    "print(\"el volumen del cilindro es: \" , x , \"cm3\")"
   ]
  },
  {
   "cell_type": "code",
   "execution_count": 38,
   "id": "c56748c8",
   "metadata": {},
   "outputs": [
    {
     "name": "stdout",
     "output_type": "stream",
     "text": [
      " altura 10\n",
      " radio 6\n",
      "el area total del cilindro es:  603.1872 cm2\n"
     ]
    }
   ],
   "source": [
    "#area de cilindro \n",
    "a = input(\" altura \")\n",
    "r = input(\" radio \")\n",
    "c = 3.1416\n",
    "j = float(r)**2\n",
    "q = float(c)*2 \n",
    "x = float(q) * float(r) * float(a) + float(q) * float(j)\n",
    "print(\"el area total del cilindro es: \" , x , \"cm2\")"
   ]
  },
  {
   "cell_type": "code",
   "execution_count": 40,
   "id": "867297e2",
   "metadata": {},
   "outputs": [
    {
     "name": "stdout",
     "output_type": "stream",
     "text": [
      " radio 2\n",
      "50.2656\n"
     ]
    }
   ],
   "source": [
    "#area de esfera \n",
    "r = input(\" radio \")\n",
    "c = 3.1416\n",
    "j = float(r)**2\n",
    "q = float(c)*4\n",
    "x = float(q) * float(j)\n",
    "print(x)"
   ]
  },
  {
   "cell_type": "code",
   "execution_count": 41,
   "id": "a1cd1cc2",
   "metadata": {},
   "outputs": [
    {
     "name": "stdout",
     "output_type": "stream",
     "text": [
      " radio 2\n",
      "33.5104\n"
     ]
    }
   ],
   "source": [
    "#volumen esfera\n",
    "#area de esfera \n",
    "r = input(\" radio \")\n",
    "c = 3.1416\n",
    "j = float(r)**3\n",
    "q = float(c)*4/3\n",
    "x = float(q) * float(j)\n",
    "print(x)"
   ]
  },
  {
   "cell_type": "code",
   "execution_count": null,
   "id": "b4a2ddef",
   "metadata": {},
   "outputs": [],
   "source": []
  }
 ],
 "metadata": {
  "kernelspec": {
   "display_name": "Python 3 (ipykernel)",
   "language": "python",
   "name": "python3"
  },
  "language_info": {
   "codemirror_mode": {
    "name": "ipython",
    "version": 3
   },
   "file_extension": ".py",
   "mimetype": "text/x-python",
   "name": "python",
   "nbconvert_exporter": "python",
   "pygments_lexer": "ipython3",
   "version": "3.11.2"
  }
 },
 "nbformat": 4,
 "nbformat_minor": 5
}
